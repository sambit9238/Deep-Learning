{
 "cells": [
  {
   "cell_type": "code",
   "execution_count": 2,
   "metadata": {},
   "outputs": [],
   "source": [
    "#Write to markdown file\n",
    "def write_to_markdown(file_name='sample.md', input=\"\"):\n",
    "    with open(file_name, 'w') as file:\n",
    "        file.write(input)"
   ]
  },
  {
   "cell_type": "code",
   "execution_count": 3,
   "metadata": {},
   "outputs": [],
   "source": [
    "source_pdf = \"/Users/sambitmahapatra/Downloads/Merged Cell Table.pdf\""
   ]
  },
  {
   "cell_type": "code",
   "execution_count": 4,
   "metadata": {},
   "outputs": [
    {
     "name": "stderr",
     "output_type": "stream",
     "text": [
      "/Users/sambitmahapatra/Documents/hobglobin_code_folder/haystack-app/devenv/lib/python3.10/site-packages/tqdm/auto.py:21: TqdmWarning: IProgress not found. Please update jupyter and ipywidgets. See https://ipywidgets.readthedocs.io/en/stable/user_install.html\n",
      "  from .autonotebook import tqdm as notebook_tqdm\n",
      "Fetching 9 files: 100%|██████████| 9/9 [00:00<00:00, 70295.60it/s]\n"
     ]
    }
   ],
   "source": [
    "from docling.document_converter import DocumentConverter\n",
    "\n",
    "# Create a DocumentConverter instance\n",
    "converter = DocumentConverter()\n",
    "\n",
    "# Convert the PDF to Markdown\n",
    "result = converter.convert(source_pdf)\n",
    "\n",
    "# Export the result to Markdown format\n",
    "markdown_output = result.document.export_to_markdown()\n",
    "write_to_markdown(file_name='sample_docling.md', input=markdown_output)"
   ]
  },
  {
   "cell_type": "code",
   "execution_count": 5,
   "metadata": {},
   "outputs": [
    {
     "name": "stdout",
     "output_type": "stream",
     "text": [
      "Processing /Users/sambitmahapatra/Downloads/Merged Cell Table.pdf...\n",
      "[                                        ] (0/1=======================================[========================================] (1/1]\n"
     ]
    }
   ],
   "source": [
    "import pymupdf4llm\n",
    "\n",
    "# Convert the PDF to Markdown format\n",
    "markdown_output = pymupdf4llm.to_markdown(source_pdf)\n",
    "\n",
    "write_to_markdown(file_name='sample_pymupdf4llm.md', input=markdown_output)"
   ]
  },
  {
   "cell_type": "code",
   "execution_count": 6,
   "metadata": {},
   "outputs": [],
   "source": [
    "#Reference: https://dev.to/rishabdugar/pdf-extraction-retrieving-text-and-tables-together-using-python-14c2\n",
    "\n",
    "import pdfplumber\n",
    "import pandas as pd\n",
    "from pdfplumber.utils import extract_text, get_bbox_overlap, obj_to_bbox\n",
    "def convert_pdf_to_markdown(pdf_path):\n",
    "    pdf = pdfplumber.open(pdf_path)\n",
    "    all_text = []\n",
    "    for page in pdf.pages:\n",
    "        filtered_page = page\n",
    "        chars = filtered_page.chars\n",
    "        for table in page.find_tables():\n",
    "            first_table_char = page.crop(table.bbox).chars[0]\n",
    "            filtered_page = filtered_page.filter(lambda obj: \n",
    "                get_bbox_overlap(obj_to_bbox(obj), table.bbox) is None\n",
    "            )\n",
    "            chars = filtered_page.chars\n",
    "            df = pd.DataFrame(table.extract())\n",
    "            df.columns = df.iloc[0]\n",
    "            markdown = df.drop(0).to_markdown(index=False)\n",
    "            chars.append(first_table_char | {\"text\": markdown})\n",
    "        page_text = extract_text(chars, layout=True)\n",
    "        all_text.append(page_text)\n",
    "    pdf.close()\n",
    "    return \"\\n\".join(all_text)\n",
    "\n",
    "markdown_output = convert_pdf_to_markdown(source_pdf)\n",
    "\n",
    "write_to_markdown(file_name='sample_pdfplumber.md', input=markdown_output)"
   ]
  },
  {
   "cell_type": "code",
   "execution_count": null,
   "metadata": {},
   "outputs": [],
   "source": []
  }
 ],
 "metadata": {
  "kernelspec": {
   "display_name": "devenv",
   "language": "python",
   "name": "python3"
  },
  "language_info": {
   "codemirror_mode": {
    "name": "ipython",
    "version": 3
   },
   "file_extension": ".py",
   "mimetype": "text/x-python",
   "name": "python",
   "nbconvert_exporter": "python",
   "pygments_lexer": "ipython3",
   "version": "3.10.15"
  }
 },
 "nbformat": 4,
 "nbformat_minor": 2
}
